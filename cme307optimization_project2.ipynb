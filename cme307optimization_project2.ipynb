{
  "nbformat": 4,
  "nbformat_minor": 0,
  "metadata": {
    "colab": {
      "provenance": []
    },
    "kernelspec": {
      "name": "python3",
      "display_name": "Python 3"
    },
    "language_info": {
      "name": "python"
    }
  },
  "cells": [
    {
      "cell_type": "code",
      "execution_count": 38,
      "metadata": {
        "id": "uuSAcr_6LvJe"
      },
      "outputs": [],
      "source": [
        "#@title\n",
        "import numpy as np\n",
        "from scipy.stats import qmc\n",
        "import matplotlib.pyplot as plt\n",
        "\n",
        "epsilon = 1e-3\n",
        "\n",
        "def get_distance(x1, x2):\n",
        "  return np.sqrt((x1[0]-x2[0])**2 + (x1[1]-x2[1])**2)\n",
        "\n",
        "def plotting_code(X, A):\n",
        "    \"\"\"\n",
        "   Inputs:\n",
        "    X --> (nx x 2) matrix with coordinates of the sensors\n",
        "    A --> (na x 2) matrix with coordinates of the anchors\n",
        "\n",
        "    Output:\n",
        "    Plot of X, A on a 1x1 grid\n",
        "    \"\"\"\n",
        "    plt.scatter(X[:, 0], X[:, 1], color='red', label='Sensors')\n",
        "    plt.scatter(A[:, 0], A[:, 1], color='blue', label='Anchors')\n",
        "    plt.xlabel('X-axis')\n",
        "    plt.ylabel('Y-axis')\n",
        "    #plt.title('Visualization of Grid')\n",
        "    plt.xlim(0, 1)\n",
        "    plt.ylim(0, 1)\n",
        "    plt.legend()\n",
        "    plt.grid(True)\n",
        "    plt.show()\n",
        "    return\n",
        "\n",
        "def get_data(nx, na, r = (2**0.5), plotter=False):\n",
        "  '''\n",
        "  Inputs:\n",
        "    nx --> number of sensors\n",
        "    n1 --> number of anchors\n",
        "    r --> threshold radius\n",
        "  \n",
        "  Outputs:\n",
        "    X --> (nx x 2) matrix with coordinates of the sensors\n",
        "    A --> (na x 2) matrix with coordinates of the anchors\n",
        "    D --> (nx x nx) matrix with D[i,j] as the distance between sensor i and j for all i<j\n",
        "    D_hat --> (na x nx) matrix with D_hat[k,j] as the distance between anchor k and sensor j\n",
        "  '''\n",
        "  # we set seed for reproducibility of code\n",
        "  np.random.seed(1)\n",
        "\n",
        "  # A = np.random.uniform(low=0.0, high=1.0, size=(na,2))\n",
        "  # We use a quasirandom space-filling set Halton for anchor pts\n",
        "  sampler = qmc.Halton(d=2, scramble=False, seed=10)\n",
        "  A = sampler.random(na)\n",
        "\n",
        "  X = np.random.uniform(low=0.0, high=1.0, size=(nx,2))\n",
        "  D = np.zeros((nx,nx))\n",
        "  D_hat = np.zeros((na,nx))\n",
        "  for i in range(nx):\n",
        "    for j in range(i+1,nx):\n",
        "      dist = get_distance(X[i], X[j]) #+ np.random.randn()*0.1\n",
        "      if  dist < r:\n",
        "        D[i,j] = dist\n",
        "  for i in range(na):\n",
        "    for j in range(nx):\n",
        "      dist = get_distance(A[i], X[j]) #+ np.random.randn()*0.1\n",
        "      if dist < r:\n",
        "        D_hat[i,j] = dist\n",
        "  #here we plot the anchors and real sensors\n",
        "  if plotter:\n",
        "    plotting_code(X, A)\n",
        "\n",
        "  return X, A, D, D_hat\n",
        "\n",
        "\n",
        "def get_distances_from_anchors(X_est, A, r=2**0.05):\n",
        "  na = A.shape[0]\n",
        "  nx = X_est.shape[0]\n",
        "  D_est = np.zeros((nx,nx))\n",
        "  D_hat_est = np.zeros((na,nx))\n",
        "  for i in range(nx):\n",
        "    for j in range(i+1,nx):\n",
        "      dist = get_distance(X_est[i], X_est[j])\n",
        "      if  dist < r:\n",
        "        D_est[i,j] = dist\n",
        "  for i in range(na):\n",
        "    for j in range(nx):\n",
        "      dist = get_distance(A[i], X_est[j])\n",
        "      if dist < r:\n",
        "        D_hat_est[i,j] = dist\n",
        "  return D_est, D_hat_est\n",
        "\n",
        "def sanity_checks(X_est, A, Z=None):\n",
        "  D_est, D_hat_est = get_distances_from_anchors(X_est, A)\n",
        "  if (D_est <= D + epsilon).all():\n",
        "    print('D_est <= D: PASS')\n",
        "  else:\n",
        "    print('D_est <= D: FAIL')\n",
        "  if (D_hat_est <= D_hat + epsilon).all():\n",
        "    print('D_hat_est <= D_hat: PASS')\n",
        "  else:\n",
        "    print('D_hat_est <= D_hat: FAIL')\n",
        "  if Z is not None:\n",
        "    if np.all(np.linalg.eigvals(Z) + epsilon >= 0):\n",
        "      print('Z >> 0 : PASS')\n",
        "    else:\n",
        "      print('Z >> 0: FALL')\n",
        "  \n",
        "def plotter_with_estimation(X, A, X_est, title='Visualization of Grid', anchors=True):\n",
        "    x_optimal = X_est \n",
        "    if X_est is not None:\n",
        "      plt.scatter(x_optimal[:, 0], x_optimal[:, 1], alpha = 0.9,label = \"Estimated\", color='green')\n",
        "    plt.scatter(X[:, 0], X[:, 1], color='red', label='Real Sensors', marker = '+')\n",
        "    if anchors:\n",
        "      plt.scatter(A[:, 0], A[:, 1], color='blue', label='Anchors', marker=\"*\")\n",
        "    plt.xlabel('X-axis')\n",
        "    plt.ylabel('Y-axis')\n",
        "    plt.title(title)\n",
        "    plt.xlim(-0.1, 1.1)\n",
        "    plt.ylim(-0.1, 1.1)\n",
        "    plt.legend()\n",
        "    plt.grid(True)\n",
        "    plt.show()\n",
        "\n",
        "def generate_points_on_perimeter(n):\n",
        "    points = []\n",
        "    interval = 1 / (n - 1)\n",
        "    if n > 4: \n",
        "      # Generate points along the bottom side\n",
        "      for i in range(n//4):\n",
        "          points.append([4 * i * interval, 0])\n",
        "\n",
        "      # Generate points along the right side\n",
        "      for i in range((n - 1)//4):\n",
        "          points.append([1, 4 * (i + 1) * interval])\n",
        "\n",
        "      # Generate points along the top side\n",
        "      for i in range((n - 1)//4):\n",
        "          points.append([1 - 4 * (i + 1) * interval, 1])\n",
        "\n",
        "      # Generate points along the left side\n",
        "      for i in range((n - 1)//4):\n",
        "          points.append([0, 1 - 4 * (i + 1) * interval])\n",
        "    else:\n",
        "      points = [[0,0], [1,1], [0,1], [1, 0]][:n]\n",
        "\n",
        "    # Add extra points if necessary\n",
        "    while len(points) < n:\n",
        "      x = np.random.uniform(0, 1)\n",
        "      if x < 0.5:\n",
        "          points.append([x, 0])\n",
        "      else:\n",
        "          points.append([1, x - 0.5])\n",
        "\n",
        "    return np.array(points).reshape(n, 2)\n",
        "\n",
        "def average_distance(matrix1, matrix2):\n",
        "    num_points = len(matrix1)\n",
        "    distances = np.linalg.norm(matrix1 - matrix2, axis=1)\n",
        "    avg_distance = np.sum(distances) / num_points\n",
        "    return avg_distance\n",
        "\n",
        "\n",
        "def get_noisy_data(nx, na, r=(2 ** 0.5), noise_std=0.1, seed = 0,  on_perimeter=False, plotter=False):\n",
        "    '''\n",
        "    Inputs:\n",
        "      nx --> number of sensors\n",
        "      na --> number of anchors\n",
        "      r --> threshold radius\n",
        "      noise_std --> standard deviation of the added noise\n",
        "  \n",
        "    Outputs:\n",
        "      X --> (nx x 2) matrix with coordinates of the sensors\n",
        "      A --> (na x 2) matrix with coordinates of the anchors\n",
        "      D --> (nx x nx) matrix with D[i,j] as the distance between sensor i and j for all i<j\n",
        "      D_hat --> (na x nx) matrix with D_hat[k,j] as the distance between anchor k and sensor j\n",
        "    '''\n",
        "    # Set seed for reproducibility of code\n",
        "    np.random.seed(seed)\n",
        "\n",
        "    # We use a quasirandom space-filling set Halton for anchor pts\n",
        "    if on_perimeter:\n",
        "      A = generate_points_on_perimeter(na)\n",
        "    else:\n",
        "      sampler = qmc.Halton(d=2, scramble=False, seed=10)\n",
        "      A = sampler.random(na)\n",
        "\n",
        "    X = np.random.uniform(low=0.0, high=1.0, size=(nx, 2))\n",
        "    D = np.zeros((nx, nx))\n",
        "    D_hat = np.zeros((na, nx))\n",
        "\n",
        "    for i in range(nx):\n",
        "        for j in range(i + 1, nx):\n",
        "            dist = get_distance(X[i], X[j])*(1 + np.random.randn() * noise_std)\n",
        "            if dist < r:\n",
        "                D[i, j] = dist\n",
        "\n",
        "    for i in range(na):\n",
        "        for j in range(nx):\n",
        "            dist = get_distance(A[i], X[j])*(1+ + np.random.randn() * noise_std)\n",
        "            if dist < r:\n",
        "                D_hat[i, j] = dist\n",
        "\n",
        "    # Plot the anchors and real sensors if plotter is True\n",
        "    if plotter:\n",
        "        plotting_code(X, A)\n",
        "\n",
        "    return X, A, D, D_hat\n",
        "\n",
        "def get_rmsd(x1, x2):\n",
        "  n = x1.shape[0]\n",
        "  return np.sqrt((np.linalg.norm(x1-x2, axis=1)**2).sum()/n)\n"
      ]
    },
    {
      "cell_type": "code",
      "source": [
        "#@title\n",
        "import cvxpy as cp\n",
        "import pdb\n",
        "\n",
        "def socp(Nx, A, D, D_hat, scs=True):\n",
        "  # now we use optimization techniques to locate sensors with our anchor points.\n",
        "  # Define and solve the CVXPY problem.\n",
        "  x = cp.Variable((Nx, 2))\n",
        "  # Define the objective function\n",
        "  objective = cp.Minimize(0)\n",
        "\n",
        "  # Define the constraints\n",
        "  # We use cp.SOC(t, x) to create the SOC constraint ||x||_2 <= t.\n",
        "\n",
        "  constraints = []\n",
        "  for i in range(Nx):\n",
        "    for j in range(i+1, Nx):\n",
        "      #constraints.append(cp.norm(x[i] - x[j], 2) <= D[i][j])\n",
        "      if D[i][j]>0:\n",
        "        constraints.append(cp.SOC(D[i][j], x[i]-x[j]))\n",
        "  for k in range(Na):\n",
        "    for j in range(Nx):\n",
        "      #constraints.append(cp.norm(A[k] - x[j], 2) <= D_hat[k][j])\n",
        "      if D_hat[k][j]>0:\n",
        "        constraints.append(cp.SOC(D_hat[k][j], A[k]-x[j]))\n",
        "      \n",
        "  # Create the problem instance\n",
        "  prob = cp.Problem(objective, constraints)\n",
        "  if scs:\n",
        "    prob.solve(solver=cp.SCS,verbose=False)\n",
        "  else:\n",
        "    prob.solve(verbose=False)\n",
        "\n",
        "  return (np.array(x.value))\n",
        "\n",
        "def sdp(Nx, A, D, D_hat):\n",
        "  AT = A.T\n",
        "\n",
        "  def get_eij_with_zero(i,j, nx):\n",
        "    eij = get_ei(i, nx) - get_ei(j, nx)\n",
        "    zero_vector = np.array([[0],[0]])\n",
        "    return np.concatenate((zero_vector, eij), axis=0)\n",
        "\n",
        "  def get_ei(i, nx):\n",
        "    ei = np.zeros((nx, 1))\n",
        "    ei[i] = 1\n",
        "    return ei\n",
        "\n",
        "\n",
        "  def get_ak_ej(k, j, a, nx):\n",
        "    ak = a[:, k].reshape((2,1))\n",
        "    ej = get_ei(j, nx)\n",
        "    return np.concatenate((ak, -ej),axis=0)\n",
        "\n",
        "  def dot_operator(p,q):\n",
        "    return np.sqrt(np.trace(p.T@q))\n",
        "\n",
        "  x = cp.Variable((2+Nx,2+Nx), symmetric=True)\n",
        "\n",
        "  # must be symmetric positive semi definite\n",
        "  constraints = [x >> 0]\n",
        "\n",
        "  # constraints 2 and 3 from image\n",
        "  for i in range(Nx):\n",
        "    for j in range(i+1, Nx):\n",
        "      if D[i][j]>0:\n",
        "        eij = get_eij_with_zero(i, j, Nx)\n",
        "        constraints.append( cp.trace((eij@eij.T).T@x) == D[i,j]**2)\n",
        "  for k in range(Na):\n",
        "    for j in range(Nx):\n",
        "      if D_hat[k][j]>0:\n",
        "        akej = get_ak_ej(k, j, AT, Nx)\n",
        "        constraints.append( cp.trace((akej@akej.T).T@x) == D_hat[k,j]**2)\n",
        "\n",
        "  # first constraint: first block of Z is Identity\n",
        "\n",
        "  #constraints.append(cp.diag(x[:2, :2]).value == [1, 1])\n",
        "  # constraints.append(x[0, 1] == 0)\n",
        "  # constraints.append(x[1, 0] == 0)\n",
        "\n",
        "  zd = np.zeros(((2+Nx), (2+Nx)))\n",
        "  zd[0,0] = 1\n",
        "  constraints.append(cp.trace(zd@x) == 1)\n",
        "\n",
        "  zd = np.zeros(((2+Nx), (2+Nx)))\n",
        "  zd[0,1] = 1\n",
        "  constraints.append(cp.trace(zd@x) == 0)\n",
        "\n",
        "  zd = np.zeros(((2+Nx), (2+Nx)))\n",
        "  zd[1,0] = 1\n",
        "  constraints.append(cp.trace(zd@x) == 0)\n",
        "\n",
        "  zd = np.zeros(((2+Nx), (2+Nx)))\n",
        "  zd[1,1] = 1\n",
        "  constraints.append(cp.trace(zd@x) == 1)\n",
        "\n",
        "  # solve\n",
        "  objective = cp.Minimize(0)\n",
        "  prob = cp.Problem(objective,\n",
        "                    constraints)\n",
        "\n",
        "  prob.solve(verbose=False)\n",
        "\n",
        "  #return np.array(x.value), np.array(x.value)[0:2, 2:].T\n",
        "  return np.array(x.value)[0:2, 2:].T\n",
        "\n",
        "# clearly cvxpy is unhappy. lets try numpy\n",
        "from scipy.optimize import least_squares\n",
        "\n",
        "def lsq(Nx,A,D,D_hat, x_initial=None):\n",
        "  if x_initial is None:\n",
        "    x_initial = np.random.uniform(low=0.0, high=1.0, size=(Nx, 2)).flatten()\n",
        "  def objective_function(x):\n",
        "      x = x.reshape((Nx, 2))  # Reshape x back to (Nx, 2) array\n",
        "      objective = []\n",
        "      for i in range(Nx):\n",
        "          for j in range(i + 1, Nx):\n",
        "              if D[i][j] > 0:\n",
        "                  objective.append((np.linalg.norm(x[i] - x[j]) ** 2 - D[i][j] ** 2) ** 2)\n",
        "      for i in range(Na):\n",
        "          for j in range(Nx):\n",
        "              if D[i][j] > 0:\n",
        "                  objective.append((np.linalg.norm(A[i] - x[j]) ** 2 - D_hat[i][j] ** 2) ** 2)\n",
        "      return objective\n",
        "\n",
        "  #x_initial = np.random.uniform(low=0.0, high=1.0, size=(Nx, 2))\n",
        "  #x_initial = x_initial.flatten()  # Reshape to a single dimension\n",
        "  bounds = (-10, 10)  # Bounds for x variables, if any\n",
        "\n",
        "  result = least_squares(objective_function, x_initial, bounds=bounds)\n",
        "  return result.x.reshape((Nx, 2))\n",
        "\n",
        "\n",
        "def sdp_noise(Nx, A, D, D_hat):\n",
        "    AT = A.T\n",
        "\n",
        "    def get_eij_with_zero(i, j, nx):\n",
        "        eij = get_ei(i, nx) - get_ei(j, nx)\n",
        "        zero_vector = np.array([[0], [0]])\n",
        "        return np.concatenate((zero_vector, eij), axis=0)\n",
        "\n",
        "    def get_ei(i, nx):\n",
        "        ei = np.zeros((nx, 1))\n",
        "        ei[i] = 1\n",
        "        return ei\n",
        "\n",
        "    def get_ak_ej(k, j, a, nx):\n",
        "        ak = a[:, k].reshape((2, 1))\n",
        "        ej = get_ei(j, nx)\n",
        "        return np.concatenate((ak, -ej), axis=0)\n",
        "\n",
        "    def dot_operator(p, q):\n",
        "        return np.sqrt(np.trace(p.T @ q))\n",
        "\n",
        "    x = cp.Variable((2 + Nx, 2 + Nx), symmetric=True)\n",
        "    delta = cp.Variable(D.shape, nonneg=True)\n",
        "    delta_prime = cp.Variable(D.shape, nonneg=True)\n",
        "    delta_hat = cp.Variable(D_hat.shape, nonneg=True)\n",
        "    delta_hat_prime = cp.Variable(D_hat.shape, nonneg=True)\n",
        "\n",
        "    # must be symmetric positive semi definite\n",
        "    constraints = [x >> 0]\n",
        "    constraints.append(delta>=0)\n",
        "    constraints.append(delta_prime>=0)\n",
        "    constraints.append(delta_hat>=0)\n",
        "    constraints.append(delta_hat_prime>=0)\n",
        "\n",
        "    # constraints 2 and 3 from image\n",
        "    for i in range(Nx):\n",
        "        for j in range(i + 1, Nx):\n",
        "            if D[i][j] > 0:\n",
        "                eij = get_eij_with_zero(i, j, Nx)\n",
        "                constraints.append(cp.trace((eij @ eij.T).T @ x) + delta[i, j] - delta_prime[i,j] == D[i, j] ** 2)\n",
        "\n",
        "    for k in range(Na):\n",
        "        for j in range(Nx):\n",
        "            if D_hat[k][j] > 0:\n",
        "                akej = get_ak_ej(k, j, AT, Nx)\n",
        "                constraints.append(cp.trace((akej @ akej.T).T @ x) +  delta_hat[k, j] - delta_hat_prime[k,j]  == D_hat[k, j] ** 2)\n",
        "\n",
        "    # first constraint: first block of Z is Identity\n",
        "    zd = np.zeros(((2 + Nx), (2 + Nx)))\n",
        "    zd[0, 0] = 1\n",
        "    constraints.append(cp.trace(zd @ x) == 1)\n",
        "\n",
        "    zd = np.zeros(((2 + Nx), (2 + Nx)))\n",
        "    zd[0, 1] = 1\n",
        "    constraints.append(cp.trace(zd @ x) == 0)\n",
        "\n",
        "    zd = np.zeros(((2 + Nx), (2 + Nx)))\n",
        "    zd[1, 0] = 1\n",
        "    constraints.append(cp.trace(zd @ x) == 0)\n",
        "\n",
        "    zd = np.zeros(((2 + Nx), (2 + Nx)))\n",
        "    zd[1, 1] = 1\n",
        "    constraints.append(cp.trace(zd @ x) == 1)\n",
        "\n",
        "    # minimize element-wise L1 norm\n",
        "    objective = cp.Minimize(cp.sum(delta + delta_prime) + cp.sum(delta_hat + delta_hat_prime))\n",
        "\n",
        "    prob = cp.Problem(objective, constraints)\n",
        "    prob.solve(verbose=False)\n",
        "    # print(delta.value, delta_hat.value)\n",
        "    return np.array(x.value)[0:2, 2:].T"
      ],
      "metadata": {
        "id": "IV5dCDS9jUFU"
      },
      "execution_count": 2,
      "outputs": []
    },
    {
      "cell_type": "code",
      "source": [
        "Nx, Na = 25, 10\n",
        "X, A, D, D_hat = get_data(Nx, Na, plotter=False)"
      ],
      "metadata": {
        "id": "4fIKR1ghW7_c"
      },
      "execution_count": null,
      "outputs": []
    },
    {
      "cell_type": "code",
      "source": [
        "X_est = sdp(Nx, A, D, D_hat)\n"
      ],
      "metadata": {
        "id": "VjoFMt4fglgC"
      },
      "execution_count": null,
      "outputs": []
    },
    {
      "cell_type": "code",
      "source": [
        "dist = np.sqrt((np.linalg.norm(X-X_est_socp, axis=1)**2).sum()/Nx)"
      ],
      "metadata": {
        "id": "qBJvazcbgmDs"
      },
      "execution_count": null,
      "outputs": []
    },
    {
      "cell_type": "code",
      "source": [
        "dist"
      ],
      "metadata": {
        "colab": {
          "base_uri": "https://localhost:8080/"
        },
        "id": "PYdQ7B2agmTN",
        "outputId": "2e1078df-cbb5-4c95-db78-f53a8bc54a98"
      },
      "execution_count": null,
      "outputs": [
        {
          "output_type": "execute_result",
          "data": {
            "text/plain": [
              "0.41070819036925066"
            ]
          },
          "metadata": {},
          "execution_count": 18
        }
      ]
    },
    {
      "cell_type": "code",
      "source": [
        "#Finding the distances D and D_hat with the estimated X\n",
        "X_est = socp(Nx, A, D, D_hat)\n",
        "sanity_checks(X_est, A)\n",
        "plotter_with_estimation(X, A, X_est)\n",
        "\n",
        "Z_est, X_est = sdp(Nx, A, D, D_hat)\n",
        "print(X_est.shape)\n",
        "sanity_checks(X_est, A, Z = Z_est)\n",
        "plotter_with_estimation(X, A, X_est)\n",
        "\n",
        "X_est =  lsq(Nx,A,D,D_hat)\n",
        "plotter_with_estimation(X, A, X_est)\n",
        "\n",
        "Z_est, X_est_noise_sdp = sdp_noise(Nx, A, D, D_hat)\n",
        "plotter_with_estimation(X, A, X_est_noise_sdp)\n",
        "print(X_est_noise_sdp.shape)"
      ],
      "metadata": {
        "id": "WBNogrKjrpwU"
      },
      "execution_count": null,
      "outputs": []
    },
    {
      "cell_type": "code",
      "source": [
        "n = 3\n",
        "points = [[0,0], [1,1], [0,1], [1, 0]][:n]\n",
        "print(points)\n",
        "num_points = 10\n",
        "points = generate_points_on_perimeter(num_points)\n",
        "points[:, 1]\n",
        "plt.scatter(points[: , 0], points[:, 1])"
      ],
      "metadata": {
        "colab": {
          "base_uri": "https://localhost:8080/"
        },
        "id": "L4IP8cZ6j7bW",
        "outputId": "83c055c9-130c-46e8-903a-458d6ee72399"
      },
      "execution_count": null,
      "outputs": [
        {
          "output_type": "stream",
          "name": "stdout",
          "text": [
            "[[0, 0], [1, 1], [0, 1]]\n"
          ]
        }
      ]
    },
    {
      "cell_type": "markdown",
      "source": [
        "With Noisy Data - DONE\n",
        "\n",
        "Comparing approaches 2,3,4 vs approach 5 --> Amod \n",
        "\n",
        "Comparing approach 5 with approach 4 starting from the solution of approach 5 - DONE\n",
        "\n",
        "\n",
        "For the house case, we can set the anchors at the corner/convex hull of the room\n",
        "\n",
        "For the wildlife case, we use the space filling case. \n",
        "\n",
        "Metrics:\n",
        "\n",
        "average distance error \n",
        "\n",
        "Parameters: \n",
        "\n",
        "Sensors: [10,50,100]\n",
        "Anchors: [5,10,25]\n",
        "\n",
        "\n",
        "Whats a good sensor to anchor ratio for all the approaches?\n",
        "Runtime vs performance tradefoffs for all the approaches?\n",
        "\n"
      ],
      "metadata": {
        "id": "RpVubHbYEbR4"
      }
    },
    {
      "cell_type": "code",
      "source": [
        "\n",
        "\n",
        "avg_dist = average_distance(matrix1, matrix2)\n",
        "print(avg_dist)"
      ],
      "metadata": {
        "colab": {
          "base_uri": "https://localhost:8080/"
        },
        "id": "vzJPWPLmryNw",
        "outputId": "456109d6-300d-4778-c691-2fae87547edd"
      },
      "execution_count": null,
      "outputs": [
        {
          "output_type": "stream",
          "name": "stdout",
          "text": [
            "1.1380711874576983\n"
          ]
        }
      ]
    },
    {
      "cell_type": "code",
      "source": [
        "# now to apply solution from (5) to NLLSQ\n",
        "X_est =  lsq(Nx, A, D, D_hat, X_est_noise_sdp.flatten())\n",
        "plotter_with_estimation(X, A, X_est)"
      ],
      "metadata": {
        "id": "kDl8UXMcEyFt"
      },
      "execution_count": null,
      "outputs": []
    },
    {
      "cell_type": "code",
      "source": [],
      "metadata": {
        "id": "vCtvAULjgJhA"
      },
      "execution_count": null,
      "outputs": []
    },
    {
      "cell_type": "code",
      "source": [
        "#@title\n",
        "\n",
        "\n",
        "def sdp_projection(Nx, A, D, D_hat, lr = 1e-4, X_sdp=None, iter=1000):\n",
        "  def project(Zhat_k):\n",
        "    from scipy.linalg import eigh\n",
        "    D, V = eigh(Zhat_k)\n",
        "    lb = np.zeros_like(D)\n",
        "    #pdb.set_trace()\n",
        "    Z_k = V @ np.diag(np.maximum(D, lb)) @ V.T\n",
        "    return Z_k\n",
        "  \n",
        "  def get_eij_with_zero(i,j, nx):\n",
        "    eij = get_ei(i, nx) - get_ei(j, nx)\n",
        "    zero_vector = np.array([[0],[0]])\n",
        "    return np.concatenate((zero_vector, eij), axis=0)\n",
        "\n",
        "  def get_ei(i, nx):\n",
        "    ei = np.zeros((nx, 1))\n",
        "    ei[i] = 1\n",
        "    return ei\n",
        "\n",
        "\n",
        "  def get_ak_ej(k, j, a, nx, lr=3e-3):\n",
        "    ak = a[:, k].reshape((2,1))\n",
        "    ej = get_ei(j, nx)\n",
        "    return np.concatenate((ak, -ej),axis=0)\n",
        "\n",
        "  def dot_operator(p,q):\n",
        "    return np.sqrt(np.trace(p.T@q))\n",
        "\n",
        "  #lr = 3e-3\n",
        "  AT = A.T\n",
        "  Z = np.eye(Nx+2)\n",
        "  grad = np.zeros((Nx+2,Nx+2))\n",
        "\n",
        "  from tqdm import tqdm\n",
        "  obj_old = 1e5\n",
        "  err = []\n",
        "  for it in range(iter):\n",
        "    for i in range(Nx):\n",
        "      for j in range(i+1, Nx):\n",
        "        if D[i][j]>0:\n",
        "          eij = get_eij_with_zero(i, j, Nx)\n",
        "          Ai = (eij@eij.T)\n",
        "          Ai_Z = np.sum(Ai*Z)\n",
        "          b = D[i,j]**2\n",
        "          grad += Ai * (Ai_Z-b)\n",
        "          \n",
        "    for k in range(Na):\n",
        "      for j in range(Nx):\n",
        "        if D_hat[k][j]>0:\n",
        "          akej = get_ak_ej(k, j, AT, Nx)\n",
        "          Ai = akej@akej.T\n",
        "          Ai_Z = np.sum(Ai*Z)\n",
        "          b = D_hat[k,j]**2\n",
        "          grad += Ai * (Ai_Z-b)\n",
        "    \n",
        "    zd = np.zeros(((2+Nx), (2+Nx)))\n",
        "    zd[0,0] = 1\n",
        "    Ai = zd\n",
        "    Ai_Z = np.sum(Ai*Z)\n",
        "    b = 1\n",
        "    grad += Ai * (Ai_Z-b)\n",
        "\n",
        "    zd = np.zeros(((2+Nx), (2+Nx)))\n",
        "    zd[0,1] = 1\n",
        "    Ai = zd\n",
        "    Ai_Z = np.sum(Ai*Z)\n",
        "    b = 0\n",
        "    grad += Ai * (Ai_Z-b)\n",
        "\n",
        "    zd = np.zeros(((2+Nx), (2+Nx)))\n",
        "    zd[1,0] = 1\n",
        "    Ai = zd\n",
        "    Ai_Z = np.sum(Ai*Z)\n",
        "    b = 0\n",
        "    grad += Ai * (Ai_Z-b)\n",
        "\n",
        "    zd = np.zeros(((2+Nx), (2+Nx)))\n",
        "    zd[1,1] = 1\n",
        "    Ai = zd\n",
        "    Ai_Z = np.sum(Ai*Z)\n",
        "    b = 1\n",
        "    grad += Ai * (Ai_Z-b)\n",
        "\n",
        "    Zhat = Z - lr*grad\n",
        "\n",
        "    Z = project(Zhat)\n",
        "\n",
        "    # if X_sdp is not None:\n",
        "    #    err.append(np.linalg.norm(Z[0:2, 2:].T - X_sdp))\n",
        "\n",
        "\n",
        "    obj_new = np.linalg.norm((Ai_Z-b))\n",
        "    if X_sdp is not None:\n",
        "       err.append(obj_new)\n",
        "    if abs(obj_new - obj_old) < 1e-9:\n",
        "      return Z[0:2, 2:].T, err\n",
        "    if it%500 == 0:\n",
        "      #print(abs(obj_new-obj_old))\n",
        "      pass\n",
        "    obj_old = obj_new\n",
        "    \n",
        "\n",
        "  \n",
        "  return Z[0:2, 2:].T, err\n",
        "\n",
        "\n",
        "\n",
        "\n",
        "    "
      ],
      "metadata": {
        "id": "WfQ9jp4Bg5O_"
      },
      "execution_count": 22,
      "outputs": []
    },
    {
      "cell_type": "code",
      "source": [
        "X_est = sdp_projection(Nx, A, D, D_hat)"
      ],
      "metadata": {
        "colab": {
          "base_uri": "https://localhost:8080/"
        },
        "id": "tjXm3n0ln-Bn",
        "outputId": "0f872f30-d59a-48ce-8fb0-eb22aedfbec4"
      },
      "execution_count": null,
      "outputs": [
        {
          "output_type": "stream",
          "name": "stderr",
          "text": [
            " 73%|███████▎  | 3639/5000 [00:40<00:15, 90.72it/s] \n"
          ]
        }
      ]
    },
    {
      "cell_type": "code",
      "source": [
        "plotter_with_estimation(X, A, X_est)"
      ],
      "metadata": {
        "id": "HwalqMCj_koL"
      },
      "execution_count": null,
      "outputs": []
    },
    {
      "cell_type": "code",
      "source": [
        "from cvxpy.problems.objective import Objective\n",
        "from tqdm import tqdm\n",
        "# trying admm\n",
        "\n",
        "np.random.seed(1)\n",
        "\n",
        "def admm(Nx, A, D, D_hat, x=None, y=None, mu=None, beta=1):\n",
        "  #first optimize for x\n",
        "  if x is None:\n",
        "    x = np.random.rand(Nx,2)\n",
        "    y = np.random.rand(Nx,2)\n",
        "    mu = np.random.rand(Nx,2)\n",
        "\n",
        "  def get_obj(x,y,mu):\n",
        "    obj=0\n",
        "    for i in range(Nx):\n",
        "      for j in range(i+1, Nx):\n",
        "        if D[i][j]>0:\n",
        "          #obj += (cp.sum(cp.multiply((x[i]-x[j]),(y[i]-y[j]))) - D[i,j]**2)**2\n",
        "          obj += (np.sum((x[i]-x[j])*(y[i]-y[j])) - D[i,j]**2)**2\n",
        "    for k in range(Na):\n",
        "      for j in range(Nx):\n",
        "        if D_hat[k][j]>0:\n",
        "          #obj += (cp.sum(cp.multiply((A[k]-x[j]),(A[k]-y[j]))) - D_hat[k,j]**2)**2\n",
        "          obj += (np.sum((A[k]-x[j])*(A[k]-y[j])) - D_hat[k,j]**2)**2\n",
        "    # for i in range(Nx):\n",
        "    #   obj-= cp.sum(cp.multiply(mu[i],(x[i]-y[i]))) \n",
        "    #   obj+= (beta/2)*cp.norm(x[i]-y[i])**2\n",
        "    \n",
        "    #pdb.set_trace()\n",
        "    return obj\n",
        "\n",
        "\n",
        "\n",
        "  obj_old = get_obj((x+y)/2,(x+y)/2,mu)\n",
        "  for it in tqdm(range(1000)):\n",
        "    obj = 0\n",
        "    x = cp.Variable((Nx, 2))\n",
        "    for i in range(Nx):\n",
        "      for j in range(i+1, Nx):\n",
        "        if D[i][j]>0:\n",
        "          obj += (cp.sum(cp.multiply((x[i]-x[j]),(y[i]-y[j]))) - D[i,j]**2)**2\n",
        "    for k in range(Na):\n",
        "      for j in range(Nx):\n",
        "        if D_hat[k][j]>0:\n",
        "          obj += (cp.sum(cp.multiply((A[k]-x[j]),(A[k]-y[j]))) - D_hat[k,j]**2)**2\n",
        "    for i in range(Nx):\n",
        "      obj-= cp.sum(cp.multiply(mu[i],(x[i]-y[i]))) \n",
        "      obj+= (beta/2)*cp.norm(x[i]-y[i])**2\n",
        "    \n",
        "    objective = cp.Minimize(obj)\n",
        "    prob = cp.Problem(objective)\n",
        "    prob.solve(verbose=False)\n",
        "    x = np.array(x.value)\n",
        "    #pdb.set_trace()\n",
        "    \n",
        "    #obj_val = get_obj(x,y,mu)\n",
        "\n",
        "    # optimize for y\n",
        "    obj=0\n",
        "    y = cp.Variable((Nx, 2))\n",
        "    for i in range(Nx):\n",
        "      for j in range(i+1, Nx):\n",
        "        if D[i][j]>0:\n",
        "          obj += (cp.sum(cp.multiply((x[i]-x[j]),(y[i]-y[j]))) - D[i,j]**2)**2\n",
        "    for k in range(Na):\n",
        "      for j in range(Nx):\n",
        "        if D_hat[k][j]>0:\n",
        "          obj += (cp.sum(cp.multiply((A[k]-x[j]),(A[k]-y[j]))) - D_hat[k,j]**2)**2\n",
        "    for i in range(Nx):\n",
        "      obj-= cp.sum(cp.multiply(mu[i],(x[i]-y[i]))) \n",
        "      obj+= (beta/2)*cp.norm(x[i]-y[i])**2\n",
        "    \n",
        "    objective = cp.Minimize(obj)\n",
        "    prob = cp.Problem(objective)\n",
        "    prob.solve(verbose=False)\n",
        "    y = np.array(y.value)\n",
        "    #pdb.set_trace()\n",
        "    \n",
        "    mu -= beta*(x-y)\n",
        "\n",
        "    obj_new = get_obj((x+y)/2,(x+y)/2,mu)\n",
        "    #print(abs(obj_new-obj_old))\n",
        "    if abs(obj_new-obj_old)<1e-9:\n",
        "      #print(abs(obj_new-obj_old))\n",
        "      #print(it)\n",
        "      return (x+y)/2\n",
        "    if it%200 == 0:\n",
        "      print(abs(obj_new-obj_old))\n",
        "      pass\n",
        "    obj_old = obj_new\n",
        "\n",
        "\n",
        "  return (x+y)/2\n",
        "\n",
        "  \n",
        "# X, A, D, D_hat = get_noisy_data(Nx, Na, r=0.5, noise_std=0, seed = 1,  on_perimeter=False, plotter=False)\n",
        "# x = np.random.rand(Nx,2)\n",
        "# y = np.random.rand(Nx,2)\n",
        "# mu = np.random.rand(Nx,2)\n",
        "# X_est = admm(Nx, A, D, D_hat, x, y, mu)\n",
        "# plotter_with_estimation(X, A, X_est)\n",
        "\n",
        "  \n",
        "\n"
      ],
      "metadata": {
        "id": "D8a-b0ZsAS9w"
      },
      "execution_count": 31,
      "outputs": []
    },
    {
      "cell_type": "code",
      "source": [
        "#@title\n",
        "def admm_trial(Nx, A, D, D_hat, x, y, mu):\n",
        "  x_new = np.zeros((Nx,2))\n",
        "  beta = 1000\n",
        "  for i in range(Nx):\n",
        "    x_new[i] = x_new[i] - mu[i]\n",
        "    x_new[i] += beta*(x[i]-y[i])\n",
        "    for j in range(i+1, Nx):\n",
        "      if D[i,j]>0:\n",
        "        x_new[i] += 2* (np.sum((x[i]-x[j])*(y[i]-y[j])) - D[i,j]**2)*(y[i]-y[j])\n",
        "  for k in range(Na):\n",
        "    for j in range(Nx):\n",
        "      if D_hat[k,j]>0:\n",
        "        x_new[j] +=  2* (np.sum((A[k]-x[j])*(A[k]-y[j])) - D_hat[k,j]**2)*(y[j]-A[k])\n",
        "\n",
        "  for i in range(Nx):\n",
        "    x_new[i] = x_new[i] - mu[i]\n",
        "    x_new[i] += beta*(x[i]-y[i])\n",
        "    for j in range(i+1, Nx):\n",
        "      if D[i,j]>0:\n",
        "        x_new[i] += 2* (np.sum((x[i]-x[j])*(y[i]-y[j])) - D[i,j]**2)*(y[i]-y[j])\n",
        "  for k in range(Na):\n",
        "    for j in range(Nx):\n",
        "      if D_hat[k,j]>0:\n",
        "        x_new[j] +=  2* (np.sum((A[k]-x[j])*(A[k]-y[j])) - D_hat[k,j]**2)*(y[j]-A[k])        \n",
        "  return x_new\n",
        "\n",
        "x = np.random.rand(Nx,2)\n",
        "y = np.random.rand(Nx,2)\n",
        "mu = np.random.rand(Nx,2)\n",
        "print(admm_trial(Nx, A, D, D_hat, x, y, mu))\n"
      ],
      "metadata": {
        "colab": {
          "base_uri": "https://localhost:8080/"
        },
        "cellView": "form",
        "id": "hKbx_m7WAGRI",
        "outputId": "8d95bced-cca2-48fe-fa5d-acb290ce5a46"
      },
      "execution_count": 32,
      "outputs": [
        {
          "output_type": "stream",
          "name": "stdout",
          "text": [
            "[[-1.13143480e+00  3.23617544e+02]\n",
            " [-2.82107297e+02  2.07468612e+02]\n",
            " [-1.31911750e+03 -1.76392199e+03]\n",
            " [-2.54909153e+02 -6.96540648e+02]\n",
            " [-9.61721247e+02 -7.13675559e+02]\n",
            " [ 6.68289889e+02  1.29138006e+03]\n",
            " [ 6.89870255e+01 -8.23457560e-01]\n",
            " [-1.43235626e+02  4.98188633e+02]]\n"
          ]
        }
      ]
    },
    {
      "cell_type": "code",
      "source": [
        "D_est, D_hat_est = get_distances_from_anchors(X_est, A, r=2**0.05)\n",
        "np.linalg.norm((D - D_est))"
      ],
      "metadata": {
        "colab": {
          "base_uri": "https://localhost:8080/",
          "height": 184
        },
        "id": "VzUT6tFWCFu2",
        "outputId": "b42bdb68-6299-45a8-89fd-79769917a6da"
      },
      "execution_count": 33,
      "outputs": [
        {
          "output_type": "error",
          "ename": "NameError",
          "evalue": "ignored",
          "traceback": [
            "\u001b[0;31m---------------------------------------------------------------------------\u001b[0m",
            "\u001b[0;31mNameError\u001b[0m                                 Traceback (most recent call last)",
            "\u001b[0;32m<ipython-input-33-e15d62a45785>\u001b[0m in \u001b[0;36m<cell line: 1>\u001b[0;34m()\u001b[0m\n\u001b[0;32m----> 1\u001b[0;31m \u001b[0mD_est\u001b[0m\u001b[0;34m,\u001b[0m \u001b[0mD_hat_est\u001b[0m \u001b[0;34m=\u001b[0m \u001b[0mget_distances_from_anchors\u001b[0m\u001b[0;34m(\u001b[0m\u001b[0mX_est\u001b[0m\u001b[0;34m,\u001b[0m \u001b[0mA\u001b[0m\u001b[0;34m,\u001b[0m \u001b[0mr\u001b[0m\u001b[0;34m=\u001b[0m\u001b[0;36m2\u001b[0m\u001b[0;34m**\u001b[0m\u001b[0;36m0.05\u001b[0m\u001b[0;34m)\u001b[0m\u001b[0;34m\u001b[0m\u001b[0;34m\u001b[0m\u001b[0m\n\u001b[0m\u001b[1;32m      2\u001b[0m \u001b[0mnp\u001b[0m\u001b[0;34m.\u001b[0m\u001b[0mlinalg\u001b[0m\u001b[0;34m.\u001b[0m\u001b[0mnorm\u001b[0m\u001b[0;34m(\u001b[0m\u001b[0;34m(\u001b[0m\u001b[0mD\u001b[0m \u001b[0;34m-\u001b[0m \u001b[0mD_est\u001b[0m\u001b[0;34m)\u001b[0m\u001b[0;34m)\u001b[0m\u001b[0;34m\u001b[0m\u001b[0;34m\u001b[0m\u001b[0m\n",
            "\u001b[0;31mNameError\u001b[0m: name 'X_est' is not defined"
          ]
        }
      ]
    },
    {
      "cell_type": "code",
      "source": [
        "np.linalg.norm((D_hat - D_hat_est))"
      ],
      "metadata": {
        "colab": {
          "base_uri": "https://localhost:8080/",
          "height": 166
        },
        "id": "F_mMPpZPK7P5",
        "outputId": "295db340-30f0-4010-f9d4-2017c280f64f"
      },
      "execution_count": 34,
      "outputs": [
        {
          "output_type": "error",
          "ename": "NameError",
          "evalue": "ignored",
          "traceback": [
            "\u001b[0;31m---------------------------------------------------------------------------\u001b[0m",
            "\u001b[0;31mNameError\u001b[0m                                 Traceback (most recent call last)",
            "\u001b[0;32m<ipython-input-34-f7aaaad6d0cb>\u001b[0m in \u001b[0;36m<cell line: 1>\u001b[0;34m()\u001b[0m\n\u001b[0;32m----> 1\u001b[0;31m \u001b[0mnp\u001b[0m\u001b[0;34m.\u001b[0m\u001b[0mlinalg\u001b[0m\u001b[0;34m.\u001b[0m\u001b[0mnorm\u001b[0m\u001b[0;34m(\u001b[0m\u001b[0;34m(\u001b[0m\u001b[0mD_hat\u001b[0m \u001b[0;34m-\u001b[0m \u001b[0mD_hat_est\u001b[0m\u001b[0;34m)\u001b[0m\u001b[0;34m)\u001b[0m\u001b[0;34m\u001b[0m\u001b[0;34m\u001b[0m\u001b[0m\n\u001b[0m",
            "\u001b[0;31mNameError\u001b[0m: name 'D_hat_est' is not defined"
          ]
        }
      ]
    },
    {
      "cell_type": "code",
      "source": [
        "#code for anchor placement \n",
        "\n",
        "#random case\n",
        "socp_rmsd, sdp_rmsd, lsq_rmsd, sdp_lsq_rmsd, proj_rmsd, admm_rmsd = [], [], [], [], [], []\n",
        "\n",
        "Nx, Na = 8, 0\n",
        "for it in tqdm(range(1)):\n",
        "  it=1\n",
        "  X, A, D, D_hat = get_noisy_data(Nx, Na, r=1.5, noise_std=0, seed = it,  on_perimeter=False, plotter=False)\n",
        "  plotter_with_estimation(X, A, None, title='')\n",
        "  #X, A, D, D_hat = get_hull_data(Nx, Na, it, plotter=False)\n",
        "\n",
        "  # X_socp = socp(Nx, A, D, D_hat)\n",
        "  # socp_rmsd.append(get_rmsd(X, X_socp))\n",
        "  # plotter_with_estimation(X, A, X_socp, title='Anchors placed randomly')\n",
        "  # print('SOCP done')\n",
        "\n",
        "  # X_lsq = lsq(Nx,A,D,D_hat, x_initial=None)\n",
        "  # lsq_rmsd.append(get_rmsd(X, X_lsq))\n",
        "  # plotter_with_estimation(X, A, X_lsq, title='Anchors placed randomly')\n",
        "  # print('LS Done')\n",
        "\n",
        "  # X_sdp = sdp_noise(Nx, A, D, D_hat)\n",
        "  # sdp_rmsd.append(get_rmsd(X, X_sdp))\n",
        "  # plotter_with_estimation(X, A, X_sdp, title='Anchors on perimeter')\n",
        "  #print('SDP done')\n",
        "\n",
        "\n",
        "  #X_sdp_lsq = lsq(Nx,A,D,D_hat, x_initial=X_sdp.flatten())\n",
        "  #sdp_lsq_rmsd.append(get_rmsd(X, X_sdp_lsq))\n",
        "  #print('SDP with LS done')\n",
        "  #pdb.set_trace()\n",
        "\n",
        "  # X_proj = sdp_projection(Nx, A, D, D_hat, lr=2e-3)\n",
        "  # proj_rmsd.append(get_rmsd(X, X_proj))\n",
        "  ##print('Proj done')\n",
        "\n",
        "  # X_admm = admm(Nx, A, D, D_hat)\n",
        "  # admm_rmsd.append(get_rmsd(X, X_admm))\n",
        "  # plotter_with_estimation(X, A, X_admm, title='Sensors beyond convex hull of anchors')\n",
        "  # print('Admm done')\n",
        "\n",
        "\n",
        "\n",
        "\n",
        "\n",
        "\n"
      ],
      "metadata": {
        "colab": {
          "base_uri": "https://localhost:8080/",
          "height": 484
        },
        "id": "9npx1xdJTYVn",
        "outputId": "b90a7ddd-8e34-45a8-cd95-18c10517ffa0"
      },
      "execution_count": 42,
      "outputs": [
        {
          "output_type": "stream",
          "name": "stderr",
          "text": [
            "\r  0%|          | 0/1 [00:00<?, ?it/s]"
          ]
        },
        {
          "output_type": "display_data",
          "data": {
            "text/plain": [
              "<Figure size 640x480 with 1 Axes>"
            ],
            "image/png": "[encoded data removed]"
          },
          "metadata": {}
        },
        {
          "output_type": "stream",
          "name": "stderr",
          "text": [
            "100%|██████████| 1/1 [00:00<00:00,  3.11it/s]\n"
          ]
        }
      ]
    },
    {
      "cell_type": "code",
      "source": [
        "avg = np.average\n",
        "print(avg(socp_rmsd), avg(lsq_rmsd),  avg(sdp_rmsd), avg(sdp_lsq_rmsd), avg(proj_rmsd), avg(admm_rmsd))"
      ],
      "metadata": {
        "colab": {
          "base_uri": "https://localhost:8080/"
        },
        "id": "I-dXfPrHLVvV",
        "outputId": "b2af7cbe-f1c7-4bbb-89ee-99f7fed284ef"
      },
      "execution_count": null,
      "outputs": [
        {
          "output_type": "stream",
          "name": "stdout",
          "text": [
            "0.19398139530244826 0.5578402469497157 0.1751281540272593 0.5336341511913275 nan 0.16292197995022\n"
          ]
        },
        {
          "output_type": "stream",
          "name": "stderr",
          "text": [
            "/usr/local/lib/python3.10/dist-packages/numpy/lib/function_base.py:495: RuntimeWarning: Mean of empty slice.\n",
            "  avg = a.mean(axis)\n",
            "/usr/local/lib/python3.10/dist-packages/numpy/core/_methods.py:189: RuntimeWarning: invalid value encountered in double_scalars\n",
            "  ret = ret.dtype.type(ret / rcount)\n"
          ]
        }
      ]
    },
    {
      "cell_type": "code",
      "source": [
        "import matplotlib.pyplot as plt\n",
        "x = ['NLS', 'SOCP', 'SDP', 'ADMM']\n",
        "y = [lsq_rmsd, socp_rmsd, sdp_rmsd, admm_rmsd]\n",
        "fig = plt.figure()\n",
        "ax = fig.add_subplot(111)\n",
        "# Creating axes instance\n",
        "ax.set_xticklabels(x)\n",
        "ax.set_title('Sensors beyond convex hull of anchors')\n",
        "ax.set_ylabel('RMSD')\n",
        " \n",
        "# Creating plot\n",
        "plt.boxplot(y)\n",
        "#4,8,0,0.5"
      ],
      "metadata": {
        "colab": {
          "base_uri": "https://localhost:8080/",
          "height": 990
        },
        "id": "xIYjiHYyM8n-",
        "outputId": "04354d50-45e8-45d5-951f-8396bcbeb726"
      },
      "execution_count": null,
      "outputs": [
        {
          "output_type": "stream",
          "name": "stderr",
          "text": [
            "<ipython-input-58-5042cd6997ae>:7: UserWarning: FixedFormatter should only be used together with FixedLocator\n",
            "  ax.set_xticklabels(x)\n"
          ]
        },
        {
          "output_type": "execute_result",
          "data": {
            "text/plain": [
              "{'whiskers': [<matplotlib.lines.Line2D at 0x7f5469c4db40>,\n",
              "  <matplotlib.lines.Line2D at 0x7f5469c4c670>,\n",
              "  <matplotlib.lines.Line2D at 0x7f5469c4d420>,\n",
              "  <matplotlib.lines.Line2D at 0x7f5469c4d510>,\n",
              "  <matplotlib.lines.Line2D at 0x7f5469c4c520>,\n",
              "  <matplotlib.lines.Line2D at 0x7f5469c4c730>,\n",
              "  <matplotlib.lines.Line2D at 0x7f546a1e2830>,\n",
              "  <matplotlib.lines.Line2D at 0x7f546a024e80>],\n",
              " 'caps': [<matplotlib.lines.Line2D at 0x7f5469c4fc70>,\n",
              "  <matplotlib.lines.Line2D at 0x7f5469c4d210>,\n",
              "  <matplotlib.lines.Line2D at 0x7f5469c4c040>,\n",
              "  <matplotlib.lines.Line2D at 0x7f5469c4ead0>,\n",
              "  <matplotlib.lines.Line2D at 0x7f546a547d00>,\n",
              "  <matplotlib.lines.Line2D at 0x7f546a5449d0>,\n",
              "  <matplotlib.lines.Line2D at 0x7f546a0242b0>,\n",
              "  <matplotlib.lines.Line2D at 0x7f54719c69b0>],\n",
              " 'boxes': [<matplotlib.lines.Line2D at 0x7f5469c4f4c0>,\n",
              "  <matplotlib.lines.Line2D at 0x7f5469c4f490>,\n",
              "  <matplotlib.lines.Line2D at 0x7f5469c4f340>,\n",
              "  <matplotlib.lines.Line2D at 0x7f546a1e0f70>],\n",
              " 'medians': [<matplotlib.lines.Line2D at 0x7f5469c4df90>,\n",
              "  <matplotlib.lines.Line2D at 0x7f5469c4fd60>,\n",
              "  <matplotlib.lines.Line2D at 0x7f546a1e2500>,\n",
              "  <matplotlib.lines.Line2D at 0x7f54719c6890>],\n",
              " 'fliers': [<matplotlib.lines.Line2D at 0x7f5469c4e680>,\n",
              "  <matplotlib.lines.Line2D at 0x7f5469c4fa90>,\n",
              "  <matplotlib.lines.Line2D at 0x7f546a1e2ef0>,\n",
              "  <matplotlib.lines.Line2D at 0x7f54719c4160>],\n",
              " 'means': []}"
            ]
          },
          "metadata": {},
          "execution_count": 58
        },
        {
          "output_type": "display_data",
          "data": {
            "text/plain": [
              "<Figure size 640x480 with 1 Axes>"
            ],
            "image/png": "[encoded data removed]"
          },
          "metadata": {}
        }
      ]
    },
    {
      "cell_type": "code",
      "source": [
        "X_socp"
      ],
      "metadata": {
        "colab": {
          "base_uri": "https://localhost:8080/"
        },
        "id": "PMOqcPYzSrKo",
        "outputId": "e382ec81-3190-4377-aba3-79eaec55be4d"
      },
      "execution_count": null,
      "outputs": [
        {
          "output_type": "execute_result",
          "data": {
            "text/plain": [
              "array(None, dtype=object)"
            ]
          },
          "metadata": {},
          "execution_count": 17
        }
      ]
    },
    {
      "cell_type": "code",
      "source": [
        "def get_obj(x,y):\n",
        "  obj=0\n",
        "  for i in range(Nx):\n",
        "    for j in range(i+1, Nx):\n",
        "      if D[i][j]>0:\n",
        "        #obj += (cp.sum(cp.multiply((x[i]-x[j]),(y[i]-y[j]))) - D[i,j]**2)**2\n",
        "        obj += (np.sum((x[i]-x[j])*(y[i]-y[j])) - D[i,j]**2)**2\n",
        "  for k in range(Na):\n",
        "    for j in range(Nx):\n",
        "      if D_hat[k][j]>0:\n",
        "        #obj += (cp.sum(cp.multiply((A[k]-x[j]),(A[k]-y[j]))) - D_hat[k,j]**2)**2\n",
        "        obj += (np.sum((A[k]-x[j])*(A[k]-y[j])) - D_hat[k,j]**2)**2\n",
        "  # for i in range(Nx):\n",
        "  #   obj-= cp.sum(cp.multiply(mu[i],(x[i]-y[i]))) \n",
        "  #   obj+= (beta/2)*cp.norm(x[i]-y[i])**2\n",
        "  \n",
        "  #pdb.set_trace()\n",
        "  return obj\n",
        "\n",
        "\n",
        "def get_hull_data(nx, na, seed, r=1.5, plotter=True, noise_std=0):\n",
        "  np.random.seed(seed)\n",
        "  lb = 0.4\n",
        "  ub = 0.6\n",
        "  A = np.array( [ [ub, ub], [lb, ub], [ub, lb], [lb, lb]])\n",
        "  X = np.random.uniform(low=0.0, high=1.0, size=(nx,2))\n",
        "\n",
        "  for i in range(nx):\n",
        "    if X[i][0] > lb and X[i][0] < ub and X[i][1] > lb and X[i][1] < ub:\n",
        "      xval = ub - X[i][0] if X[i][0] > 0.5 else X[i][0] - lb\n",
        "      xdir = 1 if X[i][0] > 0.5 else 0\n",
        "      yval = ub - X[i][1] if X[i][1] > 0.5 else X[i][1] - lb\n",
        "      ydir = 1 if X[i][1] > 0.5 else 0\n",
        "      if yval >= xval:\n",
        "        X[i][1] = np.random.uniform(low=ub, high=1.0) if ydir else np.random.uniform(low=0, high=lb)\n",
        "      else:\n",
        "        X[i][0] = np.random.uniform(low=ub, high=1.0) if xdir else np.random.uniform(low=0, high=lb)\n",
        "\n",
        "\n",
        "\n",
        "  D = np.zeros((nx,nx))\n",
        "  D_hat = np.zeros((na,nx))\n",
        "  for i in range(nx):\n",
        "    for j in range(i+1,nx):\n",
        "      dist = get_distance(X[i], X[j])*(1 + np.random.randn() * noise_std) #+ np.random.randn()*0.1\n",
        "      if  dist < r:\n",
        "        D[i,j] = dist\n",
        "  for i in range(na):\n",
        "    for j in range(nx):\n",
        "      dist = get_distance(A[i], X[j])*(1 + np.random.randn() * noise_std) #+ np.random.randn()*0.1\n",
        "      if dist < r:\n",
        "        D_hat[i,j] = dist\n",
        "  #here we plot the anchors and real sensors\n",
        "  if plotter:\n",
        "    plotting_code(X, A)\n",
        "\n",
        "  return X, A, D, D_hat"
      ],
      "metadata": {
        "id": "3nJNZwNyzdyQ"
      },
      "execution_count": 24,
      "outputs": []
    },
    {
      "cell_type": "code",
      "source": [
        "Nx = 15\n",
        "\n",
        "anchors = [2,5,10,15]\n",
        "socp_rmsd, sdp_rmsd, lsq_rmsd, sdp_lsq_rmsd, proj_rmsd, admm_rmsd = [], [], [], [], [], []\n",
        "\n",
        "\n",
        "for Na in anchors:\n",
        "  print(Na)\n",
        "  socp_t, sdp_t, lsq_t, sdp_lsq_t, proj_t, admm_t = [], [], [], [], [], []\n",
        "  for it in tqdm(range(1)):\n",
        "    X, A, D, D_hat = get_noisy_data(Nx, Na, r=0.5, noise_std=0, seed = it,  on_perimeter=False, plotter=False)\n",
        "    #X, A, D, D_hat = get_hull_data(Nx, Na, it, plotter=False)\n",
        "\n",
        "    X_socp = socp(Nx, A, D, D_hat)\n",
        "    socp_rmsd.append(get_rmsd(X, X_socp))\n",
        "    plotter_with_estimation(X, A, X_socp, title='Anchors on perimeter')\n",
        "\n",
        "    #print('SOCP done')\n",
        "\n",
        "    X_lsq = lsq(Nx,A,D,D_hat, x_initial=None)\n",
        "    lsq_rmsd.append(get_rmsd(X, X_lsq))\n",
        "    plotter_with_estimation(X, A, X_lsq, title='Anchors on perimeter')\n",
        "\n",
        "    #print('LS Done')\n",
        "\n",
        "    X_sdp = sdp(Nx, A, D, D_hat)\n",
        "    sdp_rmsd.append(get_rmsd(X, X_sdp))\n",
        "    plotter_with_estimation(X, A, X_sdp, title='Anchors on perimeter')\n",
        "\n",
        "    #print('SDP done')\n",
        "\n",
        "    # X_sdp_lsq = lsq(Nx,A,D,D_hat, x_initial=X_sdp.flatten())\n",
        "    # sdp_lsq_rmsd.append(get_rmsd(X, X_sdp_lsq))\n",
        "    #print('SDP with LS done')\n",
        "    #pdb.set_trace()\n",
        "\n",
        "    # X_proj = sdp_projection(Nx, A, D, D_hat, lr=2e-3)\n",
        "    # proj_rmsd.append(get_rmsd(X, X_proj))\n",
        "    ##print('Proj done')\n",
        "\n",
        "    X_admm = admm(Nx, A, D, D_hat)\n",
        "    admm_rmsd.append(get_rmsd(X, X_admm))\n",
        "    plotter_with_estimation(X, A, X_admm, title='Anchors on perimeter')\n",
        "    #print('Admm done')\n",
        "\n",
        "  socp_t.append(socp_rmsd)\n",
        "  sdp_t.append(sdp_rmsd)\n",
        "  lsq_t.append(lsq_rmsd)\n",
        "  admm_t.append(admm_rmsd)\n"
      ],
      "metadata": {
        "colab": {
          "base_uri": "https://localhost:8080/",
          "height": 253
        },
        "id": "NZ94X_1DVFuy",
        "outputId": "cfeab4a2-480f-4cbf-e5fe-6cfef0f65f83"
      },
      "execution_count": null,
      "outputs": [
        {
          "output_type": "stream",
          "name": "stdout",
          "text": [
            "2\n"
          ]
        },
        {
          "output_type": "error",
          "ename": "NameError",
          "evalue": "ignored",
          "traceback": [
            "\u001b[0;31m---------------------------------------------------------------------------\u001b[0m",
            "\u001b[0;31mNameError\u001b[0m                                 Traceback (most recent call last)",
            "\u001b[0;32m<ipython-input-3-037552909f54>\u001b[0m in \u001b[0;36m<cell line: 7>\u001b[0;34m()\u001b[0m\n\u001b[1;32m      8\u001b[0m   \u001b[0mprint\u001b[0m\u001b[0;34m(\u001b[0m\u001b[0mNa\u001b[0m\u001b[0;34m)\u001b[0m\u001b[0;34m\u001b[0m\u001b[0;34m\u001b[0m\u001b[0m\n\u001b[1;32m      9\u001b[0m   \u001b[0msocp_t\u001b[0m\u001b[0;34m,\u001b[0m \u001b[0msdp_t\u001b[0m\u001b[0;34m,\u001b[0m \u001b[0mlsq_t\u001b[0m\u001b[0;34m,\u001b[0m \u001b[0msdp_lsq_t\u001b[0m\u001b[0;34m,\u001b[0m \u001b[0mproj_t\u001b[0m\u001b[0;34m,\u001b[0m \u001b[0madmm_t\u001b[0m \u001b[0;34m=\u001b[0m \u001b[0;34m[\u001b[0m\u001b[0;34m]\u001b[0m\u001b[0;34m,\u001b[0m \u001b[0;34m[\u001b[0m\u001b[0;34m]\u001b[0m\u001b[0;34m,\u001b[0m \u001b[0;34m[\u001b[0m\u001b[0;34m]\u001b[0m\u001b[0;34m,\u001b[0m \u001b[0;34m[\u001b[0m\u001b[0;34m]\u001b[0m\u001b[0;34m,\u001b[0m \u001b[0;34m[\u001b[0m\u001b[0;34m]\u001b[0m\u001b[0;34m,\u001b[0m \u001b[0;34m[\u001b[0m\u001b[0;34m]\u001b[0m\u001b[0;34m\u001b[0m\u001b[0;34m\u001b[0m\u001b[0m\n\u001b[0;32m---> 10\u001b[0;31m   \u001b[0;32mfor\u001b[0m \u001b[0mit\u001b[0m \u001b[0;32min\u001b[0m \u001b[0mtqdm\u001b[0m\u001b[0;34m(\u001b[0m\u001b[0mrange\u001b[0m\u001b[0;34m(\u001b[0m\u001b[0;36m1\u001b[0m\u001b[0;34m)\u001b[0m\u001b[0;34m)\u001b[0m\u001b[0;34m:\u001b[0m\u001b[0;34m\u001b[0m\u001b[0;34m\u001b[0m\u001b[0m\n\u001b[0m\u001b[1;32m     11\u001b[0m     \u001b[0mX\u001b[0m\u001b[0;34m,\u001b[0m \u001b[0mA\u001b[0m\u001b[0;34m,\u001b[0m \u001b[0mD\u001b[0m\u001b[0;34m,\u001b[0m \u001b[0mD_hat\u001b[0m \u001b[0;34m=\u001b[0m \u001b[0mget_noisy_data\u001b[0m\u001b[0;34m(\u001b[0m\u001b[0mNx\u001b[0m\u001b[0;34m,\u001b[0m \u001b[0mNa\u001b[0m\u001b[0;34m,\u001b[0m \u001b[0mr\u001b[0m\u001b[0;34m=\u001b[0m\u001b[0;36m0.5\u001b[0m\u001b[0;34m,\u001b[0m \u001b[0mnoise_std\u001b[0m\u001b[0;34m=\u001b[0m\u001b[0;36m0\u001b[0m\u001b[0;34m,\u001b[0m \u001b[0mseed\u001b[0m \u001b[0;34m=\u001b[0m \u001b[0mit\u001b[0m\u001b[0;34m,\u001b[0m  \u001b[0mon_perimeter\u001b[0m\u001b[0;34m=\u001b[0m\u001b[0;32mFalse\u001b[0m\u001b[0;34m,\u001b[0m \u001b[0mplotter\u001b[0m\u001b[0;34m=\u001b[0m\u001b[0;32mFalse\u001b[0m\u001b[0;34m)\u001b[0m\u001b[0;34m\u001b[0m\u001b[0;34m\u001b[0m\u001b[0m\n\u001b[1;32m     12\u001b[0m     \u001b[0;31m#X, A, D, D_hat = get_hull_data(Nx, Na, it, plotter=False)\u001b[0m\u001b[0;34m\u001b[0m\u001b[0;34m\u001b[0m\u001b[0m\n",
            "\u001b[0;31mNameError\u001b[0m: name 'tqdm' is not defined"
          ]
        }
      ]
    },
    {
      "cell_type": "code",
      "source": [
        "plt.plot(anchors, np.sum(np.array(socp_t).reshape((4,10)), axis=1), marker='o', linestyle='-', label='SOCP')\n",
        "plt.plot(anchors, np.sum(np.array(lsq_t).reshape((4,10)), axis=1), marker='+', linestyle='-', label='LS')\n",
        "plt.plot(anchors, np.sum(np.array(sdp_t).reshape((4,10)), axis=1), marker='s', linestyle='--', label='SDP')\n",
        "plt.plot(anchors, np.sum(np.array(admm_t).reshape((4,10)), axis=1), marker='^', linestyle=':', label='ADMM')\n",
        "\n",
        "# Set title and axis labels\n",
        "plt.title('RSMD Error vs Number of anchors')\n",
        "plt.xlabel('Number of Anchors')\n",
        "plt.ylabel('RMSD Error')\n",
        "\n",
        "# Customize legend\n",
        "plt.legend()\n",
        "\n",
        "# Add grid lines\n",
        "plt.grid(True)"
      ],
      "metadata": {
        "colab": {
          "base_uri": "https://localhost:8080/",
          "height": 472
        },
        "id": "WvW7z1_eD7Oy",
        "outputId": "b397fe21-4b75-457d-d3b8-49e1b284fd44"
      },
      "execution_count": null,
      "outputs": [
        {
          "output_type": "display_data",
          "data": {
            "text/plain": [
              "<Figure size 640x480 with 1 Axes>"
            ],
            "image/png": "[encoded data removed]"
          },
          "metadata": {}
        }
      ]
    },
    {
      "cell_type": "code",
      "source": [
        "np.array(admm_t).shape"
      ],
      "metadata": {
        "colab": {
          "base_uri": "https://localhost:8080/"
        },
        "id": "pnUySWOvFs-_",
        "outputId": "6d727c45-0fec-443f-bcd4-cdf1ed49a9ae"
      },
      "execution_count": null,
      "outputs": [
        {
          "output_type": "execute_result",
          "data": {
            "text/plain": [
              "(1, 8)"
            ]
          },
          "metadata": {},
          "execution_count": 13
        }
      ]
    },
    {
      "cell_type": "code",
      "source": [
        "Nx, Na= 8, 4\n",
        "it=1\n",
        "X, A, D, D_hat = get_noisy_data(Nx, Na, r=1.5, noise_std=0, seed = it,  on_perimeter=False, plotter=True)\n",
        "#X_est = lsq(Nx, A, D, D_hat)\n",
        "#plotter_with_estimation(X, A, X_est, title='')\n",
        "\n",
        "\n",
        "X, A, D, D_hat = get_noisy_data(Nx, Na, r=1.5, noise_std=0, seed = it,  on_perimeter=True, plotter=True)\n",
        "X_est = lsq(Nx, A, D, D_hat)\n",
        "#plotter_with_estimation(X, A, X_est, title='')\n",
        "\n",
        "\n",
        "X, A, D, D_hat = get_hull_data(Nx, Na, it, plotter=False, noise_std=0.01)\n",
        "#X_est = lsq(Nx, A, D, D_hat)\n",
        "#plotter_with_estimation(X, A, X_est, title='')\n",
        "\n",
        "# Na= 0 \n",
        "# X, A, D, D_hat = get_noisy_data(Nx, Na, r=1, noise_std=0, seed = it,  on_perimeter=True, plotter=False)\n",
        "# X_est = sdp(Nx, A, D, D_hat)\n",
        "# plotter_with_estimation(X, A, X_est, title='No anchors', anchors=False)"
      ],
      "metadata": {
        "colab": {
          "base_uri": "https://localhost:8080/",
          "height": 927
        },
        "id": "uWsjb0YrFuQV",
        "outputId": "75ff066a-db52-4a7c-a806-79a05244b4cb"
      },
      "execution_count": null,
      "outputs": [
        {
          "output_type": "display_data",
          "data": {
            "text/plain": [
              "<Figure size 640x480 with 1 Axes>"
            ],
            "image/png": "[encoded data removed]"
          },
          "metadata": {}
        },
        {
          "output_type": "display_data",
          "data": {
            "text/plain": [
              "<Figure size 640x480 with 1 Axes>"
            ],
            "image/png": "[encoded data removed]"
          },
          "metadata": {}
        }
      ]
    },
    {
      "cell_type": "code",
      "source": [
        "Nx, Na = 10, 5\n",
        "X, A, D, D_hat = get_noisy_data(Nx, Na, r=0.5, noise_std=0, seed = it,  on_perimeter=False, plotter=False)\n",
        "X_est = sdp(Nx, A, D, D_hat)\n",
        "\n",
        "X_proj, err = sdp_projection(Nx, A, D, D_hat, X_sdp=X_est, lr=0.01, iter=10000)\n",
        "\n",
        "\n",
        "#plotter_with_estimation(X, A, X_prj)\n"
      ],
      "metadata": {
        "colab": {
          "base_uri": "https://localhost:8080/",
          "height": 466
        },
        "id": "qurp0KjWYrws",
        "outputId": "b04e695f-eae2-4b6d-f6b7-52501748d658"
      },
      "execution_count": null,
      "outputs": [
        {
          "output_type": "execute_result",
          "data": {
            "text/plain": [
              "Text(0.5, 0, 'Number of iterations')"
            ]
          },
          "metadata": {},
          "execution_count": 78
        },
        {
          "output_type": "display_data",
          "data": {
            "text/plain": [
              "<Figure size 640x480 with 1 Axes>"
            ],
            "image/png": "[encoded data removed]"
          },
          "metadata": {}
        }
      ]
    },
    {
      "cell_type": "code",
      "source": [
        "plt.plot(err)\n",
        "plt.ylabel('Objective value')\n",
        "plt.xlabel('Number of iterations')\n",
        "plt.title('Convergence of Steepest Descent Projection')\n",
        "\n"
      ],
      "metadata": {
        "colab": {
          "base_uri": "https://localhost:8080/",
          "height": 489
        },
        "id": "w7g3kCplZfoF",
        "outputId": "b28ca4fc-f970-4fcb-a758-28a3abe65458"
      },
      "execution_count": null,
      "outputs": [
        {
          "output_type": "execute_result",
          "data": {
            "text/plain": [
              "Text(0.5, 1.0, 'Convergence of Steepest Descent Projection')"
            ]
          },
          "metadata": {},
          "execution_count": 81
        },
        {
          "output_type": "display_data",
          "data": {
            "text/plain": [
              "<Figure size 640x480 with 1 Axes>"
            ],
            "image/png": "[encoded data removed]"
          },
          "metadata": {}
        }
      ]
    },
    {
      "cell_type": "code",
      "source": [
        "plotter_with_estimation(X, A, X_proj, title='Steepest Descent Projection')\n"
      ],
      "metadata": {
        "colab": {
          "base_uri": "https://localhost:8080/",
          "height": 472
        },
        "id": "NkKla7E3icyW",
        "outputId": "b4f33af9-08c1-496d-c232-50f9efb02477"
      },
      "execution_count": null,
      "outputs": [
        {
          "output_type": "display_data",
          "data": {
            "text/plain": [
              "<Figure size 640x480 with 1 Axes>"
            ],
            "image/png": "[encoded data removed]"
          },
          "metadata": {}
        }
      ]
    },
    {
      "cell_type": "code",
      "source": [
        "Nx, Na= 12, 5\n",
        "it=0\n",
        "X, A, D, D_hat = get_noisy_data(Nx, Na, r=1.5, noise_std=0, seed = it,  on_perimeter=False, plotter=False)\n",
        "#X_est = lsq(Nx, A, D, D_hat)\n",
        "plotter_with_estimation(X, A, None, title='')\n",
        "\n",
        "\n",
        "X, A, D, D_hat = get_noisy_data(Nx, Na, r=1.5, noise_std=0, seed = it,  on_perimeter=True, plotter=False)\n",
        "#X_est = lsq(Nx, A, D, D_hat)\n",
        "plotter_with_estimation(X, A, None, title='')\n",
        "\n",
        "\n",
        "X, A, D, D_hat = get_hull_data(Nx, Na, it, plotter=False, noise_std=0)\n",
        "#X_est = lsq(Nx, A, D, D_hat)\n",
        "plotter_with_estimation(X, A, None, title='')\n",
        "\n",
        "# Na= 0 \n",
        "# X, A, D, D_hat = get_noisy_data(Nx, Na, r=1, noise_std=0, seed = it,  on_perimeter=True, plotter=False)\n",
        "# X_est = sdp(Nx, A, D, D_hat)\n",
        "# plotter_with_estimation(X, A, X_est, title='No anchors', anchors=False)"
      ],
      "metadata": {
        "colab": {
          "base_uri": "https://localhost:8080/",
          "height": 1000
        },
        "id": "OpMDr6a4m0sO",
        "outputId": "29d7527a-bd0a-4e86-e5de-a3547408b7ac"
      },
      "execution_count": null,
      "outputs": [
        {
          "output_type": "display_data",
          "data": {
            "text/plain": [
              "<Figure size 640x480 with 1 Axes>"
            ],
            "image/png": "[encoded data removed]"
          },
          "metadata": {}
        },
        {
          "output_type": "display_data",
          "data": {
            "text/plain": [
              "<Figure size 640x480 with 1 Axes>"
            ],
            "image/png": "[encoded data removed]"
          },
          "metadata": {}
        },
        {
          "output_type": "error",
          "ename": "IndexError",
          "evalue": "ignored",
          "traceback": [
            "\u001b[0;31m---------------------------------------------------------------------------\u001b[0m",
            "\u001b[0;31mIndexError\u001b[0m                                Traceback (most recent call last)",
            "\u001b[0;32m<ipython-input-97-a4dac2e53acd>\u001b[0m in \u001b[0;36m<cell line: 13>\u001b[0;34m()\u001b[0m\n\u001b[1;32m     11\u001b[0m \u001b[0;34m\u001b[0m\u001b[0m\n\u001b[1;32m     12\u001b[0m \u001b[0;34m\u001b[0m\u001b[0m\n\u001b[0;32m---> 13\u001b[0;31m \u001b[0mX\u001b[0m\u001b[0;34m,\u001b[0m \u001b[0mA\u001b[0m\u001b[0;34m,\u001b[0m \u001b[0mD\u001b[0m\u001b[0;34m,\u001b[0m \u001b[0mD_hat\u001b[0m \u001b[0;34m=\u001b[0m \u001b[0mget_hull_data\u001b[0m\u001b[0;34m(\u001b[0m\u001b[0mNx\u001b[0m\u001b[0;34m,\u001b[0m \u001b[0mNa\u001b[0m\u001b[0;34m,\u001b[0m \u001b[0mit\u001b[0m\u001b[0;34m,\u001b[0m \u001b[0mplotter\u001b[0m\u001b[0;34m=\u001b[0m\u001b[0;32mFalse\u001b[0m\u001b[0;34m,\u001b[0m \u001b[0mnoise_std\u001b[0m\u001b[0;34m=\u001b[0m\u001b[0;36m0\u001b[0m\u001b[0;34m)\u001b[0m\u001b[0;34m\u001b[0m\u001b[0;34m\u001b[0m\u001b[0m\n\u001b[0m\u001b[1;32m     14\u001b[0m \u001b[0;31m#X_est = lsq(Nx, A, D, D_hat)\u001b[0m\u001b[0;34m\u001b[0m\u001b[0;34m\u001b[0m\u001b[0m\n\u001b[1;32m     15\u001b[0m \u001b[0mplotter_with_estimation\u001b[0m\u001b[0;34m(\u001b[0m\u001b[0mX\u001b[0m\u001b[0;34m,\u001b[0m \u001b[0mA\u001b[0m\u001b[0;34m,\u001b[0m \u001b[0;32mNone\u001b[0m\u001b[0;34m,\u001b[0m \u001b[0mtitle\u001b[0m\u001b[0;34m=\u001b[0m\u001b[0;34m''\u001b[0m\u001b[0;34m)\u001b[0m\u001b[0;34m\u001b[0m\u001b[0;34m\u001b[0m\u001b[0m\n",
            "\u001b[0;32m<ipython-input-30-736dd104525c>\u001b[0m in \u001b[0;36mget_hull_data\u001b[0;34m(nx, na, seed, r, plotter, noise_std)\u001b[0m\n\u001b[1;32m     48\u001b[0m   \u001b[0;32mfor\u001b[0m \u001b[0mi\u001b[0m \u001b[0;32min\u001b[0m \u001b[0mrange\u001b[0m\u001b[0;34m(\u001b[0m\u001b[0mna\u001b[0m\u001b[0;34m)\u001b[0m\u001b[0;34m:\u001b[0m\u001b[0;34m\u001b[0m\u001b[0;34m\u001b[0m\u001b[0m\n\u001b[1;32m     49\u001b[0m     \u001b[0;32mfor\u001b[0m \u001b[0mj\u001b[0m \u001b[0;32min\u001b[0m \u001b[0mrange\u001b[0m\u001b[0;34m(\u001b[0m\u001b[0mnx\u001b[0m\u001b[0;34m)\u001b[0m\u001b[0;34m:\u001b[0m\u001b[0;34m\u001b[0m\u001b[0;34m\u001b[0m\u001b[0m\n\u001b[0;32m---> 50\u001b[0;31m       \u001b[0mdist\u001b[0m \u001b[0;34m=\u001b[0m \u001b[0mget_distance\u001b[0m\u001b[0;34m(\u001b[0m\u001b[0mA\u001b[0m\u001b[0;34m[\u001b[0m\u001b[0mi\u001b[0m\u001b[0;34m]\u001b[0m\u001b[0;34m,\u001b[0m \u001b[0mX\u001b[0m\u001b[0;34m[\u001b[0m\u001b[0mj\u001b[0m\u001b[0;34m]\u001b[0m\u001b[0;34m)\u001b[0m\u001b[0;34m*\u001b[0m\u001b[0;34m(\u001b[0m\u001b[0;36m1\u001b[0m \u001b[0;34m+\u001b[0m \u001b[0mnp\u001b[0m\u001b[0;34m.\u001b[0m\u001b[0mrandom\u001b[0m\u001b[0;34m.\u001b[0m\u001b[0mrandn\u001b[0m\u001b[0;34m(\u001b[0m\u001b[0;34m)\u001b[0m \u001b[0;34m*\u001b[0m \u001b[0mnoise_std\u001b[0m\u001b[0;34m)\u001b[0m \u001b[0;31m#+ np.random.randn()*0.1\u001b[0m\u001b[0;34m\u001b[0m\u001b[0;34m\u001b[0m\u001b[0m\n\u001b[0m\u001b[1;32m     51\u001b[0m       \u001b[0;32mif\u001b[0m \u001b[0mdist\u001b[0m \u001b[0;34m<\u001b[0m \u001b[0mr\u001b[0m\u001b[0;34m:\u001b[0m\u001b[0;34m\u001b[0m\u001b[0;34m\u001b[0m\u001b[0m\n\u001b[1;32m     52\u001b[0m         \u001b[0mD_hat\u001b[0m\u001b[0;34m[\u001b[0m\u001b[0mi\u001b[0m\u001b[0;34m,\u001b[0m\u001b[0mj\u001b[0m\u001b[0;34m]\u001b[0m \u001b[0;34m=\u001b[0m \u001b[0mdist\u001b[0m\u001b[0;34m\u001b[0m\u001b[0;34m\u001b[0m\u001b[0m\n",
            "\u001b[0;31mIndexError\u001b[0m: index 4 is out of bounds for axis 0 with size 4"
          ]
        }
      ]
    },
    {
      "cell_type": "code",
      "source": [
        "Nx = 1000\n",
        "Na= 10\n",
        "import time\n",
        "\n",
        "X, A, D, D_hat = get_noisy_data(Nx, Na, r=1, noise_std=0, seed = 1,  on_perimeter=False, plotter=False)\n",
        "# X_socp = socp(Nx, A, D, D_hat)\n",
        "# socp_rmsd.append(get_rmsd(X, X_socp))\n",
        "# plotter_with_estimation(X, A, X_socp, title='Anchors on perimeter')\n",
        "\n",
        "# #print('SOCP done')\n",
        "\n",
        "# X_lsq = lsq(Nx,A,D,D_hat, x_initial=None)\n",
        "# lsq_rmsd.append(get_rmsd(X, X_lsq))\n",
        "# plotter_with_estimation(X, A, X_lsq, title='Anchors on perimeter')\n",
        "\n",
        "# #print('LS Done')\n",
        "\n",
        "# start = time.time()\n",
        "# X_sdp = sdp(Nx, A, D, D_hat)\n",
        "# end = time.time()\n",
        "# print(end - start)\n",
        "\n",
        "# sdp_rmsd.append(get_rmsd(X, X_sdp))\n",
        "# plotter_with_estimation(X, A, X_sdp, title='Anchors on perimeter')\n",
        "\n",
        "#print('SDP done')\n",
        "\n",
        "# X_sdp_lsq = lsq(Nx,A,D,D_hat, x_initial=X_sdp.flatten())\n",
        "# sdp_lsq_rmsd.append(get_rmsd(X, X_sdp_lsq))\n",
        "#print('SDP with LS done')\n",
        "#pdb.set_trace()\n",
        "\n",
        "# X_proj = sdp_projection(Nx, A, D, D_hat, lr=2e-3)\n",
        "# proj_rmsd.append(get_rmsd(X, X_proj))\n",
        "##print('Proj done')\n",
        "\n",
        "start = time.time()\n",
        "X_admm = admm(Nx, A, D, D_hat)\n",
        "end = time.time()\n",
        "print(end - start)\n",
        "admm_rmsd.append(get_rmsd(X, X_admm))\n",
        "plotter_with_estimation(X, A, X_admm, title='Anchors on perimeter')\n",
        "\n",
        "#print('Admm done')"
      ],
      "metadata": {
        "id": "zX8iwiDZrDz8",
        "colab": {
          "base_uri": "https://localhost:8080/"
        },
        "outputId": "47127343-fd8f-44fd-a389-d22a40aaf14e"
      },
      "execution_count": null,
      "outputs": [
        {
          "output_type": "stream",
          "name": "stderr",
          "text": [
            "\r  0%|          | 0/1000 [00:00<?, ?it/s]"
          ]
        }
      ]
    },
    {
      "cell_type": "code",
      "source": [],
      "metadata": {
        "id": "MdcpRnhr18V6"
      },
      "execution_count": null,
      "outputs": []
    }
  ]
}